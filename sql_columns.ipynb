{
 "cells": [
  {
   "cell_type": "code",
   "execution_count": 33,
   "metadata": {},
   "outputs": [],
   "source": [
    "inp=\"\"\"\n",
    "-- | 1  | 3.50  |\n",
    "-- | 2  | 3.65  |\n",
    "-- | 3  | 4.00  |\n",
    "-- | 4  | 3.85  |\n",
    "-- | 5  | 4.00  |\n",
    "-- | 6  | 3.65  |\n",
    "    \"\"\""
   ]
  },
  {
   "cell_type": "code",
   "execution_count": 34,
   "metadata": {},
   "outputs": [
    {
     "name": "stdout",
     "output_type": "stream",
     "text": [
      "(),\n",
      "(1,3.50),\n",
      "(2,3.65),\n",
      "(3,4.00),\n",
      "(4,3.85),\n",
      "(5,4.00),\n",
      "(6,3.65),\n",
      "(),\n"
     ]
    }
   ],
   "source": [
    "columns = ['int',\n",
    "            # 'varchar',\n",
    "            'int']\n",
    "inp=inp.replace('--','').replace(\"|\",',')\n",
    "for row in inp.split(\"\\n\"):\n",
    "    str_=\"(\"\n",
    "    for i,cell in enumerate(row.split(\",\")):\n",
    "        if (i)>len(columns):\n",
    "            break\n",
    "        if i==0:\n",
    "            continue\n",
    "        if i>1:\n",
    "            str_+=','\n",
    "        # print(cell,i-1)\n",
    "        if columns[i-1]=='varchar':\n",
    "            str_+=f\"'{cell.strip()}'\"\n",
    "        else:\n",
    "            str_+=f\"{cell.strip()}\"\n",
    "        # print(str_)\n",
    "    str_+=\"),\"\n",
    "    print(str_)\n",
    "    # print(str_)\n",
    "    # print(\"\\n\\n\")"
   ]
  },
  {
   "cell_type": "code",
   "execution_count": null,
   "metadata": {},
   "outputs": [],
   "source": []
  }
 ],
 "metadata": {
  "interpreter": {
   "hash": "a098dd09e2adcc01c8a76d59c72f847ea78849db972d189cb091648992306afb"
  },
  "kernelspec": {
   "display_name": "Python 3.8.7 64-bit ('venv': venv)",
   "language": "python",
   "name": "python3"
  },
  "language_info": {
   "codemirror_mode": {
    "name": "ipython",
    "version": 3
   },
   "file_extension": ".py",
   "mimetype": "text/x-python",
   "name": "python",
   "nbconvert_exporter": "python",
   "pygments_lexer": "ipython3",
   "version": "3.8.7"
  },
  "orig_nbformat": 4
 },
 "nbformat": 4,
 "nbformat_minor": 2
}
